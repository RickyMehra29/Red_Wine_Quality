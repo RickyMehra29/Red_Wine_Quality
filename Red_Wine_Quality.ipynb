{
 "cells": [
  {
   "cell_type": "code",
   "execution_count": 15,
   "metadata": {},
   "outputs": [],
   "source": [
    "import pandas as pd\n",
    "import numpy as np\n",
    "import seaborn as sns\n",
    "import matplotlib.pyplot as plt\n",
    "%matplotlib inline\n",
    "\n",
    "import warnings\n",
    "warnings.filterwarnings('ignore')"
   ]
  },
  {
   "cell_type": "code",
   "execution_count": 16,
   "metadata": {},
   "outputs": [],
   "source": [
    "df = pd.read_csv(\"https://raw.githubusercontent.com/aniruddhachoudhury/Red-Wine-Quality/master/winequality-red.csv\")"
   ]
  },
  {
   "cell_type": "code",
   "execution_count": 17,
   "metadata": {},
   "outputs": [
    {
     "data": {
      "text/plain": [
       "Index(['fixed acidity', 'volatile acidity', 'citric acid', 'residual sugar',\n",
       "       'chlorides', 'free sulfur dioxide', 'total sulfur dioxide', 'density',\n",
       "       'pH', 'sulphates', 'alcohol', 'quality'],\n",
       "      dtype='object')"
      ]
     },
     "execution_count": 17,
     "metadata": {},
     "output_type": "execute_result"
    }
   ],
   "source": [
    "df.columns"
   ]
  },
  {
   "cell_type": "code",
   "execution_count": 18,
   "metadata": {},
   "outputs": [
    {
     "data": {
      "text/html": [
       "<div>\n",
       "<style scoped>\n",
       "    .dataframe tbody tr th:only-of-type {\n",
       "        vertical-align: middle;\n",
       "    }\n",
       "\n",
       "    .dataframe tbody tr th {\n",
       "        vertical-align: top;\n",
       "    }\n",
       "\n",
       "    .dataframe thead th {\n",
       "        text-align: right;\n",
       "    }\n",
       "</style>\n",
       "<table border=\"1\" class=\"dataframe\">\n",
       "  <thead>\n",
       "    <tr style=\"text-align: right;\">\n",
       "      <th></th>\n",
       "      <th>fixed acidity</th>\n",
       "      <th>volatile acidity</th>\n",
       "      <th>citric acid</th>\n",
       "      <th>residual sugar</th>\n",
       "      <th>chlorides</th>\n",
       "      <th>free sulfur dioxide</th>\n",
       "      <th>total sulfur dioxide</th>\n",
       "      <th>density</th>\n",
       "      <th>pH</th>\n",
       "      <th>sulphates</th>\n",
       "      <th>alcohol</th>\n",
       "      <th>quality</th>\n",
       "    </tr>\n",
       "  </thead>\n",
       "  <tbody>\n",
       "    <tr>\n",
       "      <th>0</th>\n",
       "      <td>7.4</td>\n",
       "      <td>0.70</td>\n",
       "      <td>0.00</td>\n",
       "      <td>1.9</td>\n",
       "      <td>0.076</td>\n",
       "      <td>11.0</td>\n",
       "      <td>34.0</td>\n",
       "      <td>0.9978</td>\n",
       "      <td>3.51</td>\n",
       "      <td>0.56</td>\n",
       "      <td>9.4</td>\n",
       "      <td>5</td>\n",
       "    </tr>\n",
       "    <tr>\n",
       "      <th>1</th>\n",
       "      <td>7.8</td>\n",
       "      <td>0.88</td>\n",
       "      <td>0.00</td>\n",
       "      <td>2.6</td>\n",
       "      <td>0.098</td>\n",
       "      <td>25.0</td>\n",
       "      <td>67.0</td>\n",
       "      <td>0.9968</td>\n",
       "      <td>3.20</td>\n",
       "      <td>0.68</td>\n",
       "      <td>9.8</td>\n",
       "      <td>5</td>\n",
       "    </tr>\n",
       "    <tr>\n",
       "      <th>2</th>\n",
       "      <td>7.8</td>\n",
       "      <td>0.76</td>\n",
       "      <td>0.04</td>\n",
       "      <td>2.3</td>\n",
       "      <td>0.092</td>\n",
       "      <td>15.0</td>\n",
       "      <td>54.0</td>\n",
       "      <td>0.9970</td>\n",
       "      <td>3.26</td>\n",
       "      <td>0.65</td>\n",
       "      <td>9.8</td>\n",
       "      <td>5</td>\n",
       "    </tr>\n",
       "    <tr>\n",
       "      <th>3</th>\n",
       "      <td>11.2</td>\n",
       "      <td>0.28</td>\n",
       "      <td>0.56</td>\n",
       "      <td>1.9</td>\n",
       "      <td>0.075</td>\n",
       "      <td>17.0</td>\n",
       "      <td>60.0</td>\n",
       "      <td>0.9980</td>\n",
       "      <td>3.16</td>\n",
       "      <td>0.58</td>\n",
       "      <td>9.8</td>\n",
       "      <td>6</td>\n",
       "    </tr>\n",
       "    <tr>\n",
       "      <th>4</th>\n",
       "      <td>7.4</td>\n",
       "      <td>0.70</td>\n",
       "      <td>0.00</td>\n",
       "      <td>1.9</td>\n",
       "      <td>0.076</td>\n",
       "      <td>11.0</td>\n",
       "      <td>34.0</td>\n",
       "      <td>0.9978</td>\n",
       "      <td>3.51</td>\n",
       "      <td>0.56</td>\n",
       "      <td>9.4</td>\n",
       "      <td>5</td>\n",
       "    </tr>\n",
       "  </tbody>\n",
       "</table>\n",
       "</div>"
      ],
      "text/plain": [
       "   fixed acidity  volatile acidity  citric acid  residual sugar  chlorides  \\\n",
       "0            7.4              0.70         0.00             1.9      0.076   \n",
       "1            7.8              0.88         0.00             2.6      0.098   \n",
       "2            7.8              0.76         0.04             2.3      0.092   \n",
       "3           11.2              0.28         0.56             1.9      0.075   \n",
       "4            7.4              0.70         0.00             1.9      0.076   \n",
       "\n",
       "   free sulfur dioxide  total sulfur dioxide  density    pH  sulphates  \\\n",
       "0                 11.0                  34.0   0.9978  3.51       0.56   \n",
       "1                 25.0                  67.0   0.9968  3.20       0.68   \n",
       "2                 15.0                  54.0   0.9970  3.26       0.65   \n",
       "3                 17.0                  60.0   0.9980  3.16       0.58   \n",
       "4                 11.0                  34.0   0.9978  3.51       0.56   \n",
       "\n",
       "   alcohol  quality  \n",
       "0      9.4        5  \n",
       "1      9.8        5  \n",
       "2      9.8        5  \n",
       "3      9.8        6  \n",
       "4      9.4        5  "
      ]
     },
     "execution_count": 18,
     "metadata": {},
     "output_type": "execute_result"
    }
   ],
   "source": [
    "df.head()"
   ]
  },
  {
   "cell_type": "code",
   "execution_count": 19,
   "metadata": {},
   "outputs": [
    {
     "data": {
      "text/plain": [
       "(1599, 12)"
      ]
     },
     "execution_count": 19,
     "metadata": {},
     "output_type": "execute_result"
    }
   ],
   "source": [
    "df.shape"
   ]
  },
  {
   "cell_type": "code",
   "execution_count": 20,
   "metadata": {},
   "outputs": [],
   "source": [
    "def detail_info():\n",
    "    temp_df = pd.DataFrame(index= df.columns)\n",
    "    \n",
    "    temp_df['data_type'] = df.dtypes\n",
    "    temp_df['unique_val'] = df.nunique()\n",
    "    temp_df['missing_val'] = df.isnull().sum()\n",
    "    temp_df['missing_val_%'] = round(df.isnull().mean()*100,2)\n",
    "    \n",
    "    return temp_df"
   ]
  },
  {
   "cell_type": "code",
   "execution_count": 21,
   "metadata": {},
   "outputs": [
    {
     "data": {
      "text/html": [
       "<div>\n",
       "<style scoped>\n",
       "    .dataframe tbody tr th:only-of-type {\n",
       "        vertical-align: middle;\n",
       "    }\n",
       "\n",
       "    .dataframe tbody tr th {\n",
       "        vertical-align: top;\n",
       "    }\n",
       "\n",
       "    .dataframe thead th {\n",
       "        text-align: right;\n",
       "    }\n",
       "</style>\n",
       "<table border=\"1\" class=\"dataframe\">\n",
       "  <thead>\n",
       "    <tr style=\"text-align: right;\">\n",
       "      <th></th>\n",
       "      <th>data_type</th>\n",
       "      <th>unique_val</th>\n",
       "      <th>missing_val</th>\n",
       "      <th>missing_val_%</th>\n",
       "    </tr>\n",
       "  </thead>\n",
       "  <tbody>\n",
       "    <tr>\n",
       "      <th>fixed acidity</th>\n",
       "      <td>float64</td>\n",
       "      <td>96</td>\n",
       "      <td>0</td>\n",
       "      <td>0.0</td>\n",
       "    </tr>\n",
       "    <tr>\n",
       "      <th>volatile acidity</th>\n",
       "      <td>float64</td>\n",
       "      <td>143</td>\n",
       "      <td>0</td>\n",
       "      <td>0.0</td>\n",
       "    </tr>\n",
       "    <tr>\n",
       "      <th>citric acid</th>\n",
       "      <td>float64</td>\n",
       "      <td>80</td>\n",
       "      <td>0</td>\n",
       "      <td>0.0</td>\n",
       "    </tr>\n",
       "    <tr>\n",
       "      <th>residual sugar</th>\n",
       "      <td>float64</td>\n",
       "      <td>91</td>\n",
       "      <td>0</td>\n",
       "      <td>0.0</td>\n",
       "    </tr>\n",
       "    <tr>\n",
       "      <th>chlorides</th>\n",
       "      <td>float64</td>\n",
       "      <td>153</td>\n",
       "      <td>0</td>\n",
       "      <td>0.0</td>\n",
       "    </tr>\n",
       "    <tr>\n",
       "      <th>free sulfur dioxide</th>\n",
       "      <td>float64</td>\n",
       "      <td>60</td>\n",
       "      <td>0</td>\n",
       "      <td>0.0</td>\n",
       "    </tr>\n",
       "    <tr>\n",
       "      <th>total sulfur dioxide</th>\n",
       "      <td>float64</td>\n",
       "      <td>144</td>\n",
       "      <td>0</td>\n",
       "      <td>0.0</td>\n",
       "    </tr>\n",
       "    <tr>\n",
       "      <th>density</th>\n",
       "      <td>float64</td>\n",
       "      <td>436</td>\n",
       "      <td>0</td>\n",
       "      <td>0.0</td>\n",
       "    </tr>\n",
       "    <tr>\n",
       "      <th>pH</th>\n",
       "      <td>float64</td>\n",
       "      <td>89</td>\n",
       "      <td>0</td>\n",
       "      <td>0.0</td>\n",
       "    </tr>\n",
       "    <tr>\n",
       "      <th>sulphates</th>\n",
       "      <td>float64</td>\n",
       "      <td>96</td>\n",
       "      <td>0</td>\n",
       "      <td>0.0</td>\n",
       "    </tr>\n",
       "    <tr>\n",
       "      <th>alcohol</th>\n",
       "      <td>float64</td>\n",
       "      <td>65</td>\n",
       "      <td>0</td>\n",
       "      <td>0.0</td>\n",
       "    </tr>\n",
       "    <tr>\n",
       "      <th>quality</th>\n",
       "      <td>int64</td>\n",
       "      <td>6</td>\n",
       "      <td>0</td>\n",
       "      <td>0.0</td>\n",
       "    </tr>\n",
       "  </tbody>\n",
       "</table>\n",
       "</div>"
      ],
      "text/plain": [
       "                     data_type  unique_val  missing_val  missing_val_%\n",
       "fixed acidity          float64          96            0            0.0\n",
       "volatile acidity       float64         143            0            0.0\n",
       "citric acid            float64          80            0            0.0\n",
       "residual sugar         float64          91            0            0.0\n",
       "chlorides              float64         153            0            0.0\n",
       "free sulfur dioxide    float64          60            0            0.0\n",
       "total sulfur dioxide   float64         144            0            0.0\n",
       "density                float64         436            0            0.0\n",
       "pH                     float64          89            0            0.0\n",
       "sulphates              float64          96            0            0.0\n",
       "alcohol                float64          65            0            0.0\n",
       "quality                  int64           6            0            0.0"
      ]
     },
     "execution_count": 21,
     "metadata": {},
     "output_type": "execute_result"
    }
   ],
   "source": [
    "detail_info()"
   ]
  },
  {
   "cell_type": "code",
   "execution_count": 22,
   "metadata": {},
   "outputs": [
    {
     "data": {
      "text/plain": [
       "array([5, 6, 7, 4, 8, 3], dtype=int64)"
      ]
     },
     "execution_count": 22,
     "metadata": {},
     "output_type": "execute_result"
    }
   ],
   "source": [
    "df['quality'].unique()"
   ]
  },
  {
   "cell_type": "code",
   "execution_count": 23,
   "metadata": {},
   "outputs": [
    {
     "data": {
      "text/plain": [
       "5    681\n",
       "6    638\n",
       "7    199\n",
       "4     53\n",
       "8     18\n",
       "3     10\n",
       "Name: quality, dtype: int64"
      ]
     },
     "execution_count": 23,
     "metadata": {},
     "output_type": "execute_result"
    }
   ],
   "source": [
    "df['quality'].value_counts()"
   ]
  },
  {
   "cell_type": "code",
   "execution_count": 24,
   "metadata": {},
   "outputs": [
    {
     "data": {
      "text/html": [
       "<style  type=\"text/css\" >\n",
       "    #T_88144490_5908_11ed_b233_b0fc36e2c71erow0_col0 {\n",
       "            background-color:  #312222;\n",
       "            color:  #f1f1f1;\n",
       "        }    #T_88144490_5908_11ed_b233_b0fc36e2c71erow1_col0 {\n",
       "            background-color:  #3e2020;\n",
       "            color:  #f1f1f1;\n",
       "        }    #T_88144490_5908_11ed_b233_b0fc36e2c71erow2_col0 {\n",
       "            background-color:  #ff0000;\n",
       "            color:  #f1f1f1;\n",
       "        }    #T_88144490_5908_11ed_b233_b0fc36e2c71erow3_col0 {\n",
       "            background-color:  #f20202;\n",
       "            color:  #f1f1f1;\n",
       "        }    #T_88144490_5908_11ed_b233_b0fc36e2c71erow4_col0 {\n",
       "            background-color:  #6b1818;\n",
       "            color:  #f1f1f1;\n",
       "        }    #T_88144490_5908_11ed_b233_b0fc36e2c71erow5_col0 {\n",
       "            background-color:  #332222;\n",
       "            color:  #f1f1f1;\n",
       "        }</style><table id=\"T_88144490_5908_11ed_b233_b0fc36e2c71e\" ><thead>    <tr>        <th class=\"blank level0\" ></th>        <th class=\"col_heading level0 col0\" >quality</th>    </tr>    <tr>        <th class=\"blank level1\" ></th>        <th class=\"col_heading level1 col0\" >count</th>    </tr>    <tr>        <th class=\"index_name level0\" >quality</th>        <th class=\"blank\" ></th>    </tr></thead><tbody>\n",
       "                <tr>\n",
       "                        <th id=\"T_88144490_5908_11ed_b233_b0fc36e2c71elevel0_row0\" class=\"row_heading level0 row0\" >3</th>\n",
       "                        <td id=\"T_88144490_5908_11ed_b233_b0fc36e2c71erow0_col0\" class=\"data row0 col0\" >10</td>\n",
       "            </tr>\n",
       "            <tr>\n",
       "                        <th id=\"T_88144490_5908_11ed_b233_b0fc36e2c71elevel0_row1\" class=\"row_heading level0 row1\" >4</th>\n",
       "                        <td id=\"T_88144490_5908_11ed_b233_b0fc36e2c71erow1_col0\" class=\"data row1 col0\" >53</td>\n",
       "            </tr>\n",
       "            <tr>\n",
       "                        <th id=\"T_88144490_5908_11ed_b233_b0fc36e2c71elevel0_row2\" class=\"row_heading level0 row2\" >5</th>\n",
       "                        <td id=\"T_88144490_5908_11ed_b233_b0fc36e2c71erow2_col0\" class=\"data row2 col0\" >681</td>\n",
       "            </tr>\n",
       "            <tr>\n",
       "                        <th id=\"T_88144490_5908_11ed_b233_b0fc36e2c71elevel0_row3\" class=\"row_heading level0 row3\" >6</th>\n",
       "                        <td id=\"T_88144490_5908_11ed_b233_b0fc36e2c71erow3_col0\" class=\"data row3 col0\" >638</td>\n",
       "            </tr>\n",
       "            <tr>\n",
       "                        <th id=\"T_88144490_5908_11ed_b233_b0fc36e2c71elevel0_row4\" class=\"row_heading level0 row4\" >7</th>\n",
       "                        <td id=\"T_88144490_5908_11ed_b233_b0fc36e2c71erow4_col0\" class=\"data row4 col0\" >199</td>\n",
       "            </tr>\n",
       "            <tr>\n",
       "                        <th id=\"T_88144490_5908_11ed_b233_b0fc36e2c71elevel0_row5\" class=\"row_heading level0 row5\" >8</th>\n",
       "                        <td id=\"T_88144490_5908_11ed_b233_b0fc36e2c71erow5_col0\" class=\"data row5 col0\" >18</td>\n",
       "            </tr>\n",
       "    </tbody></table>"
      ],
      "text/plain": [
       "<pandas.io.formats.style.Styler at 0x189eb877978>"
      ]
     },
     "execution_count": 24,
     "metadata": {},
     "output_type": "execute_result"
    }
   ],
   "source": [
    "group1 = df.groupby(['quality']).agg({'quality':['count']})\n",
    "\n",
    "cm = sns.dark_palette(\"red\", as_cmap=True)\n",
    "group1.style.background_gradient(cmap=cm)"
   ]
  },
  {
   "cell_type": "code",
   "execution_count": 25,
   "metadata": {},
   "outputs": [
    {
     "data": {
      "text/plain": [
       "<matplotlib.axes._subplots.AxesSubplot at 0x189eb89da90>"
      ]
     },
     "execution_count": 25,
     "metadata": {},
     "output_type": "execute_result"
    },
    {
     "data": {
      "image/png": "[encoded data removed]",
      "text/plain": [
       "<Figure size 576x432 with 1 Axes>"
      ]
     },
     "metadata": {
      "needs_background": "light"
     },
     "output_type": "display_data"
    }
   ],
   "source": [
    "plt.figure(figsize=(8,6))\n",
    "sns.distplot(df['quality'])"
   ]
  },
  {
   "cell_type": "code",
   "execution_count": 26,
   "metadata": {},
   "outputs": [
    {
     "data": {
      "image/png": "[encoded data removed]",
      "text/plain": [
       "<Figure size 1080x1440 with 11 Axes>"
      ]
     },
     "metadata": {
      "needs_background": "light"
     },
     "output_type": "display_data"
    }
   ],
   "source": [
    "plt.figure(figsize=(15,20))\n",
    "for enum, feature in enumerate(df.columns):\n",
    "    if feature != 'quality':        \n",
    "        plt.subplot(4, 3, enum+1)\n",
    "        sns.distplot(df[feature], color='b', bins =20)\n",
    "        plt.xlabel(feature)\n",
    "        plt.show"
   ]
  },
  {
   "cell_type": "code",
   "execution_count": 27,
   "metadata": {},
   "outputs": [
    {
     "data": {
      "text/html": [
       "<div>\n",
       "<style scoped>\n",
       "    .dataframe tbody tr th:only-of-type {\n",
       "        vertical-align: middle;\n",
       "    }\n",
       "\n",
       "    .dataframe tbody tr th {\n",
       "        vertical-align: top;\n",
       "    }\n",
       "\n",
       "    .dataframe thead th {\n",
       "        text-align: right;\n",
       "    }\n",
       "</style>\n",
       "<table border=\"1\" class=\"dataframe\">\n",
       "  <thead>\n",
       "    <tr style=\"text-align: right;\">\n",
       "      <th></th>\n",
       "      <th>count</th>\n",
       "      <th>mean</th>\n",
       "      <th>std</th>\n",
       "      <th>min</th>\n",
       "      <th>25%</th>\n",
       "      <th>50%</th>\n",
       "      <th>75%</th>\n",
       "      <th>max</th>\n",
       "    </tr>\n",
       "  </thead>\n",
       "  <tbody>\n",
       "    <tr>\n",
       "      <th>fixed acidity</th>\n",
       "      <td>1599.0</td>\n",
       "      <td>8.319637</td>\n",
       "      <td>1.741096</td>\n",
       "      <td>4.60000</td>\n",
       "      <td>7.1000</td>\n",
       "      <td>7.90000</td>\n",
       "      <td>9.200000</td>\n",
       "      <td>15.90000</td>\n",
       "    </tr>\n",
       "    <tr>\n",
       "      <th>volatile acidity</th>\n",
       "      <td>1599.0</td>\n",
       "      <td>0.527821</td>\n",
       "      <td>0.179060</td>\n",
       "      <td>0.12000</td>\n",
       "      <td>0.3900</td>\n",
       "      <td>0.52000</td>\n",
       "      <td>0.640000</td>\n",
       "      <td>1.58000</td>\n",
       "    </tr>\n",
       "    <tr>\n",
       "      <th>citric acid</th>\n",
       "      <td>1599.0</td>\n",
       "      <td>0.270976</td>\n",
       "      <td>0.194801</td>\n",
       "      <td>0.00000</td>\n",
       "      <td>0.0900</td>\n",
       "      <td>0.26000</td>\n",
       "      <td>0.420000</td>\n",
       "      <td>1.00000</td>\n",
       "    </tr>\n",
       "    <tr>\n",
       "      <th>residual sugar</th>\n",
       "      <td>1599.0</td>\n",
       "      <td>2.538806</td>\n",
       "      <td>1.409928</td>\n",
       "      <td>0.90000</td>\n",
       "      <td>1.9000</td>\n",
       "      <td>2.20000</td>\n",
       "      <td>2.600000</td>\n",
       "      <td>15.50000</td>\n",
       "    </tr>\n",
       "    <tr>\n",
       "      <th>chlorides</th>\n",
       "      <td>1599.0</td>\n",
       "      <td>0.087467</td>\n",
       "      <td>0.047065</td>\n",
       "      <td>0.01200</td>\n",
       "      <td>0.0700</td>\n",
       "      <td>0.07900</td>\n",
       "      <td>0.090000</td>\n",
       "      <td>0.61100</td>\n",
       "    </tr>\n",
       "    <tr>\n",
       "      <th>free sulfur dioxide</th>\n",
       "      <td>1599.0</td>\n",
       "      <td>15.874922</td>\n",
       "      <td>10.460157</td>\n",
       "      <td>1.00000</td>\n",
       "      <td>7.0000</td>\n",
       "      <td>14.00000</td>\n",
       "      <td>21.000000</td>\n",
       "      <td>72.00000</td>\n",
       "    </tr>\n",
       "    <tr>\n",
       "      <th>total sulfur dioxide</th>\n",
       "      <td>1599.0</td>\n",
       "      <td>46.467792</td>\n",
       "      <td>32.895324</td>\n",
       "      <td>6.00000</td>\n",
       "      <td>22.0000</td>\n",
       "      <td>38.00000</td>\n",
       "      <td>62.000000</td>\n",
       "      <td>289.00000</td>\n",
       "    </tr>\n",
       "    <tr>\n",
       "      <th>density</th>\n",
       "      <td>1599.0</td>\n",
       "      <td>0.996747</td>\n",
       "      <td>0.001887</td>\n",
       "      <td>0.99007</td>\n",
       "      <td>0.9956</td>\n",
       "      <td>0.99675</td>\n",
       "      <td>0.997835</td>\n",
       "      <td>1.00369</td>\n",
       "    </tr>\n",
       "    <tr>\n",
       "      <th>pH</th>\n",
       "      <td>1599.0</td>\n",
       "      <td>3.311113</td>\n",
       "      <td>0.154386</td>\n",
       "      <td>2.74000</td>\n",
       "      <td>3.2100</td>\n",
       "      <td>3.31000</td>\n",
       "      <td>3.400000</td>\n",
       "      <td>4.01000</td>\n",
       "    </tr>\n",
       "    <tr>\n",
       "      <th>sulphates</th>\n",
       "      <td>1599.0</td>\n",
       "      <td>0.658149</td>\n",
       "      <td>0.169507</td>\n",
       "      <td>0.33000</td>\n",
       "      <td>0.5500</td>\n",
       "      <td>0.62000</td>\n",
       "      <td>0.730000</td>\n",
       "      <td>2.00000</td>\n",
       "    </tr>\n",
       "    <tr>\n",
       "      <th>alcohol</th>\n",
       "      <td>1599.0</td>\n",
       "      <td>10.422983</td>\n",
       "      <td>1.065668</td>\n",
       "      <td>8.40000</td>\n",
       "      <td>9.5000</td>\n",
       "      <td>10.20000</td>\n",
       "      <td>11.100000</td>\n",
       "      <td>14.90000</td>\n",
       "    </tr>\n",
       "    <tr>\n",
       "      <th>quality</th>\n",
       "      <td>1599.0</td>\n",
       "      <td>5.636023</td>\n",
       "      <td>0.807569</td>\n",
       "      <td>3.00000</td>\n",
       "      <td>5.0000</td>\n",
       "      <td>6.00000</td>\n",
       "      <td>6.000000</td>\n",
       "      <td>8.00000</td>\n",
       "    </tr>\n",
       "  </tbody>\n",
       "</table>\n",
       "</div>"
      ],
      "text/plain": [
       "                       count       mean        std      min      25%  \\\n",
       "fixed acidity         1599.0   8.319637   1.741096  4.60000   7.1000   \n",
       "volatile acidity      1599.0   0.527821   0.179060  0.12000   0.3900   \n",
       "citric acid           1599.0   0.270976   0.194801  0.00000   0.0900   \n",
       "residual sugar        1599.0   2.538806   1.409928  0.90000   1.9000   \n",
       "chlorides             1599.0   0.087467   0.047065  0.01200   0.0700   \n",
       "free sulfur dioxide   1599.0  15.874922  10.460157  1.00000   7.0000   \n",
       "total sulfur dioxide  1599.0  46.467792  32.895324  6.00000  22.0000   \n",
       "density               1599.0   0.996747   0.001887  0.99007   0.9956   \n",
       "pH                    1599.0   3.311113   0.154386  2.74000   3.2100   \n",
       "sulphates             1599.0   0.658149   0.169507  0.33000   0.5500   \n",
       "alcohol               1599.0  10.422983   1.065668  8.40000   9.5000   \n",
       "quality               1599.0   5.636023   0.807569  3.00000   5.0000   \n",
       "\n",
       "                           50%        75%        max  \n",
       "fixed acidity          7.90000   9.200000   15.90000  \n",
       "volatile acidity       0.52000   0.640000    1.58000  \n",
       "citric acid            0.26000   0.420000    1.00000  \n",
       "residual sugar         2.20000   2.600000   15.50000  \n",
       "chlorides              0.07900   0.090000    0.61100  \n",
       "free sulfur dioxide   14.00000  21.000000   72.00000  \n",
       "total sulfur dioxide  38.00000  62.000000  289.00000  \n",
       "density                0.99675   0.997835    1.00369  \n",
       "pH                     3.31000   3.400000    4.01000  \n",
       "sulphates              0.62000   0.730000    2.00000  \n",
       "alcohol               10.20000  11.100000   14.90000  \n",
       "quality                6.00000   6.000000    8.00000  "
      ]
     },
     "execution_count": 27,
     "metadata": {},
     "output_type": "execute_result"
    }
   ],
   "source": [
    "df.describe().T"
   ]
  },
  {
   "cell_type": "markdown",
   "metadata": {},
   "source": [
    "##### Residual sugar is right skewed and has outliers\n",
    "##### Free sulfur dioxide is right skewed and has outliers\n",
    "##### total sulfur dioxide is right skewed and has outliers\n"
   ]
  },
  {
   "cell_type": "code",
   "execution_count": 28,
   "metadata": {},
   "outputs": [],
   "source": [
    "X = df.iloc[:,:-1]\n",
    "y = df.iloc[:,-1]"
   ]
  },
  {
   "cell_type": "code",
   "execution_count": 29,
   "metadata": {},
   "outputs": [],
   "source": [
    "from sklearn.model_selection import train_test_split\n",
    "X_train, X_test, y_train, y_test = train_test_split(X,y, test_size=.33, random_state=123)"
   ]
  },
  {
   "cell_type": "code",
   "execution_count": 30,
   "metadata": {},
   "outputs": [],
   "source": [
    "from sklearn.preprocessing import StandardScaler\n",
    "scaler = StandardScaler()"
   ]
  },
  {
   "cell_type": "code",
   "execution_count": 31,
   "metadata": {},
   "outputs": [],
   "source": [
    "X_train = scaler.fit_transform(X_train)"
   ]
  },
  {
   "cell_type": "code",
   "execution_count": 32,
   "metadata": {},
   "outputs": [
    {
     "data": {
      "text/plain": [
       "array([ 8.35742297,  0.52066293,  0.27380952,  2.54640523,  0.08764893,\n",
       "       16.35060691, 47.23529412,  0.99677514,  3.30671335,  0.66143791,\n",
       "       10.4052132 ])"
      ]
     },
     "execution_count": 32,
     "metadata": {},
     "output_type": "execute_result"
    }
   ],
   "source": [
    "scaler.mean_"
   ]
  },
  {
   "cell_type": "code",
   "execution_count": 33,
   "metadata": {},
   "outputs": [],
   "source": [
    "X_test = scaler.transform(X_test)"
   ]
  },
  {
   "cell_type": "code",
   "execution_count": 34,
   "metadata": {},
   "outputs": [],
   "source": [
    "from sklearn.linear_model import LogisticRegression\n",
    "from sklearn.svm import SVC\n",
    "from sklearn.neighbors import KNeighborsClassifier\n",
    "from sklearn.tree import DecisionTreeClassifier\n",
    "from sklearn.ensemble import RandomForestClassifier\n",
    "\n",
    "from sklearn.model_selection import cross_val_score\n",
    "from sklearn.metrics import accuracy_score"
   ]
  },
  {
   "cell_type": "code",
   "execution_count": 35,
   "metadata": {},
   "outputs": [],
   "source": [
    "metrics = pd.DataFrame(index=['Train_Accuracy', 'Test_Accuracy',\n",
    "                              'Train_Accuracy_CV', 'Test_Accuracy_CV',\n",
    "                              'Train_Accuracy_Optimized', 'Test_Accuracy_Optimized'],\n",
    "                       columns=['LogisticReg','SVClassifier', 'KNeighbors','DecisionTree', 'RandomForest',])"
   ]
  },
  {
   "cell_type": "code",
   "execution_count": 36,
   "metadata": {},
   "outputs": [
    {
     "data": {
      "text/html": [
       "<div>\n",
       "<style scoped>\n",
       "    .dataframe tbody tr th:only-of-type {\n",
       "        vertical-align: middle;\n",
       "    }\n",
       "\n",
       "    .dataframe tbody tr th {\n",
       "        vertical-align: top;\n",
       "    }\n",
       "\n",
       "    .dataframe thead th {\n",
       "        text-align: right;\n",
       "    }\n",
       "</style>\n",
       "<table border=\"1\" class=\"dataframe\">\n",
       "  <thead>\n",
       "    <tr style=\"text-align: right;\">\n",
       "      <th></th>\n",
       "      <th>LogisticReg</th>\n",
       "      <th>SVClassifier</th>\n",
       "      <th>KNeighbors</th>\n",
       "      <th>DecisionTree</th>\n",
       "      <th>RandomForest</th>\n",
       "    </tr>\n",
       "  </thead>\n",
       "  <tbody>\n",
       "    <tr>\n",
       "      <th>Train_Accuracy</th>\n",
       "      <td>NaN</td>\n",
       "      <td>NaN</td>\n",
       "      <td>NaN</td>\n",
       "      <td>NaN</td>\n",
       "      <td>NaN</td>\n",
       "    </tr>\n",
       "    <tr>\n",
       "      <th>Test_Accuracy</th>\n",
       "      <td>NaN</td>\n",
       "      <td>NaN</td>\n",
       "      <td>NaN</td>\n",
       "      <td>NaN</td>\n",
       "      <td>NaN</td>\n",
       "    </tr>\n",
       "    <tr>\n",
       "      <th>Train_Accuracy_CV</th>\n",
       "      <td>NaN</td>\n",
       "      <td>NaN</td>\n",
       "      <td>NaN</td>\n",
       "      <td>NaN</td>\n",
       "      <td>NaN</td>\n",
       "    </tr>\n",
       "    <tr>\n",
       "      <th>Test_Accuracy_CV</th>\n",
       "      <td>NaN</td>\n",
       "      <td>NaN</td>\n",
       "      <td>NaN</td>\n",
       "      <td>NaN</td>\n",
       "      <td>NaN</td>\n",
       "    </tr>\n",
       "    <tr>\n",
       "      <th>Train_Accuracy_Optimized</th>\n",
       "      <td>NaN</td>\n",
       "      <td>NaN</td>\n",
       "      <td>NaN</td>\n",
       "      <td>NaN</td>\n",
       "      <td>NaN</td>\n",
       "    </tr>\n",
       "    <tr>\n",
       "      <th>Test_Accuracy_Optimized</th>\n",
       "      <td>NaN</td>\n",
       "      <td>NaN</td>\n",
       "      <td>NaN</td>\n",
       "      <td>NaN</td>\n",
       "      <td>NaN</td>\n",
       "    </tr>\n",
       "  </tbody>\n",
       "</table>\n",
       "</div>"
      ],
      "text/plain": [
       "                         LogisticReg SVClassifier KNeighbors DecisionTree  \\\n",
       "Train_Accuracy                   NaN          NaN        NaN          NaN   \n",
       "Test_Accuracy                    NaN          NaN        NaN          NaN   \n",
       "Train_Accuracy_CV                NaN          NaN        NaN          NaN   \n",
       "Test_Accuracy_CV                 NaN          NaN        NaN          NaN   \n",
       "Train_Accuracy_Optimized         NaN          NaN        NaN          NaN   \n",
       "Test_Accuracy_Optimized          NaN          NaN        NaN          NaN   \n",
       "\n",
       "                         RandomForest  \n",
       "Train_Accuracy                    NaN  \n",
       "Test_Accuracy                     NaN  \n",
       "Train_Accuracy_CV                 NaN  \n",
       "Test_Accuracy_CV                  NaN  \n",
       "Train_Accuracy_Optimized          NaN  \n",
       "Test_Accuracy_Optimized           NaN  "
      ]
     },
     "execution_count": 36,
     "metadata": {},
     "output_type": "execute_result"
    }
   ],
   "source": [
    "metrics"
   ]
  },
  {
   "cell_type": "code",
   "execution_count": 37,
   "metadata": {},
   "outputs": [],
   "source": [
    "models = []\n",
    "\n",
    "models.append(('LogisticReg',LogisticRegression()))\n",
    "models.append(('SVClassifier',SVC()))\n",
    "models.append(('KNeighbors',KNeighborsClassifier()))\n",
    "models.append(('DecisionTree',DecisionTreeClassifier()))\n",
    "models.append(('RandomForest',RandomForestClassifier()))"
   ]
  },
  {
   "cell_type": "code",
   "execution_count": 38,
   "metadata": {},
   "outputs": [
    {
     "name": "stdout",
     "output_type": "stream",
     "text": [
      "LogisticReg   [0.57209302 0.58411215 0.63084112 0.64953271 0.60280374] 0.6078765485763965 0.028752558729453204\n",
      "SVClassifier  [0.59069767 0.64018692 0.63084112 0.64018692 0.60280374] 0.6209432732014779 0.020408047138625908\n",
      "KNeighbors    [0.56744186 0.64018692 0.53271028 0.55607477 0.51401869] 0.5620865029341447 0.04321567371675555\n",
      "DecisionTree  [0.54418605 0.62149533 0.59813084 0.57009346 0.5       ] 0.5667811345359703 0.042326531609233164\n",
      "RandomForest  [0.68372093 0.69626168 0.67757009 0.6682243  0.63551402] 0.6722582047381004 0.02050455936155569\n"
     ]
    }
   ],
   "source": [
    "for name, model in models:\n",
    "    model.fit(X_train, y_train)\n",
    "    result = model.score(X_train, y_train)\n",
    "    metrics.loc['Train_Accuracy', name] = round(result*100,2)\n",
    "  \n",
    "    model = model.fit(X_train, y_train)\n",
    "    y_pred = model.predict(X_test)\n",
    "    metrics.loc['Test_Accuracy', name] = round(accuracy_score(y_test,y_pred)*100,2)\n",
    "\n",
    "\n",
    "    cv_result = cross_val_score(model, X_train, y_train, cv = 5, scoring ='accuracy')\n",
    "    print(f\"{name:{13}} {cv_result} {cv_result.mean():{18}} {cv_result.std():{18}}\")\n",
    "    metrics.loc['Train_Accuracy_CV', name] = round(cv_result.mean()*100,2)\n",
    "    \n",
    "    model = model.fit(X_train, y_train)\n",
    "    y_pred = model.predict(X_test)\n",
    "    metrics.loc['Test_Accuracy_CV', name] = round(accuracy_score(y_test,y_pred)*100,2)\n",
    "    "
   ]
  },
  {
   "cell_type": "code",
   "execution_count": 39,
   "metadata": {},
   "outputs": [
    {
     "data": {
      "text/html": [
       "<div>\n",
       "<style scoped>\n",
       "    .dataframe tbody tr th:only-of-type {\n",
       "        vertical-align: middle;\n",
       "    }\n",
       "\n",
       "    .dataframe tbody tr th {\n",
       "        vertical-align: top;\n",
       "    }\n",
       "\n",
       "    .dataframe thead th {\n",
       "        text-align: right;\n",
       "    }\n",
       "</style>\n",
       "<table border=\"1\" class=\"dataframe\">\n",
       "  <thead>\n",
       "    <tr style=\"text-align: right;\">\n",
       "      <th></th>\n",
       "      <th>LogisticReg</th>\n",
       "      <th>SVClassifier</th>\n",
       "      <th>KNeighbors</th>\n",
       "      <th>DecisionTree</th>\n",
       "      <th>RandomForest</th>\n",
       "    </tr>\n",
       "  </thead>\n",
       "  <tbody>\n",
       "    <tr>\n",
       "      <th>Train_Accuracy</th>\n",
       "      <td>61.9</td>\n",
       "      <td>67.88</td>\n",
       "      <td>69.93</td>\n",
       "      <td>100</td>\n",
       "      <td>100</td>\n",
       "    </tr>\n",
       "    <tr>\n",
       "      <th>Test_Accuracy</th>\n",
       "      <td>57.2</td>\n",
       "      <td>60.61</td>\n",
       "      <td>56.25</td>\n",
       "      <td>57.77</td>\n",
       "      <td>69.13</td>\n",
       "    </tr>\n",
       "    <tr>\n",
       "      <th>Train_Accuracy_CV</th>\n",
       "      <td>60.79</td>\n",
       "      <td>62.09</td>\n",
       "      <td>56.21</td>\n",
       "      <td>56.68</td>\n",
       "      <td>67.23</td>\n",
       "    </tr>\n",
       "    <tr>\n",
       "      <th>Test_Accuracy_CV</th>\n",
       "      <td>57.2</td>\n",
       "      <td>60.61</td>\n",
       "      <td>56.25</td>\n",
       "      <td>57.39</td>\n",
       "      <td>66.86</td>\n",
       "    </tr>\n",
       "    <tr>\n",
       "      <th>Train_Accuracy_Optimized</th>\n",
       "      <td>NaN</td>\n",
       "      <td>NaN</td>\n",
       "      <td>NaN</td>\n",
       "      <td>NaN</td>\n",
       "      <td>NaN</td>\n",
       "    </tr>\n",
       "    <tr>\n",
       "      <th>Test_Accuracy_Optimized</th>\n",
       "      <td>NaN</td>\n",
       "      <td>NaN</td>\n",
       "      <td>NaN</td>\n",
       "      <td>NaN</td>\n",
       "      <td>NaN</td>\n",
       "    </tr>\n",
       "  </tbody>\n",
       "</table>\n",
       "</div>"
      ],
      "text/plain": [
       "                         LogisticReg SVClassifier KNeighbors DecisionTree  \\\n",
       "Train_Accuracy                  61.9        67.88      69.93          100   \n",
       "Test_Accuracy                   57.2        60.61      56.25        57.77   \n",
       "Train_Accuracy_CV              60.79        62.09      56.21        56.68   \n",
       "Test_Accuracy_CV                57.2        60.61      56.25        57.39   \n",
       "Train_Accuracy_Optimized         NaN          NaN        NaN          NaN   \n",
       "Test_Accuracy_Optimized          NaN          NaN        NaN          NaN   \n",
       "\n",
       "                         RandomForest  \n",
       "Train_Accuracy                    100  \n",
       "Test_Accuracy                   69.13  \n",
       "Train_Accuracy_CV               67.23  \n",
       "Test_Accuracy_CV                66.86  \n",
       "Train_Accuracy_Optimized          NaN  \n",
       "Test_Accuracy_Optimized           NaN  "
      ]
     },
     "execution_count": 39,
     "metadata": {},
     "output_type": "execute_result"
    }
   ],
   "source": [
    "metrics"
   ]
  },
  {
   "cell_type": "markdown",
   "metadata": {},
   "source": [
    "# Hyperparameter Tunning"
   ]
  },
  {
   "cell_type": "code",
   "execution_count": 40,
   "metadata": {},
   "outputs": [],
   "source": [
    "from sklearn.model_selection import GridSearchCV"
   ]
  },
  {
   "cell_type": "code",
   "execution_count": 41,
   "metadata": {},
   "outputs": [
    {
     "data": {
      "text/plain": [
       "{'C': 0.5, 'n_jobs': -1, 'penalty': 'l1', 'solver': 'saga'}"
      ]
     },
     "execution_count": 41,
     "metadata": {},
     "output_type": "execute_result"
    }
   ],
   "source": [
    "# Logistic Regression:\n",
    "\n",
    "param_grid = {'solver' : ['liblinear', 'saga',], \n",
    "              'penalty': ['l1', 'l2', 'elasticnet'], \n",
    "              'C': np.arange(.1,1,.1),\n",
    "              'n_jobs': [-1]\n",
    "             }\n",
    "\n",
    "lr_model = GridSearchCV(LogisticRegression(), param_grid, cv =5, scoring='accuracy')\n",
    "lr_model.fit(X_train,y_train)\n",
    "lr_model.best_params_"
   ]
  },
  {
   "cell_type": "code",
   "execution_count": 42,
   "metadata": {},
   "outputs": [],
   "source": [
    "#best_params_\n",
    "#{'C': 0.5, 'n_jobs': -1, 'penalty': 'l1', 'solver': 'saga'}"
   ]
  },
  {
   "cell_type": "code",
   "execution_count": 43,
   "metadata": {},
   "outputs": [
    {
     "data": {
      "text/plain": [
       "0.5700757575757576"
      ]
     },
     "execution_count": 43,
     "metadata": {},
     "output_type": "execute_result"
    }
   ],
   "source": [
    "lr_model = LogisticRegression(C= 0.5, penalty= 'l1', solver= 'saga', n_jobs= -1)\n",
    "lr_model.fit(X_train,y_train)\n",
    "y_pred_lr = lr_model.predict(X_test)\n",
    "accuracy_score(y_pred_lr,y_test)"
   ]
  },
  {
   "cell_type": "code",
   "execution_count": 44,
   "metadata": {},
   "outputs": [],
   "source": [
    " metrics.loc['Train_Accuracy_Optimized', 'LogisticReg'] = round(lr_model.score(X_train, y_train)*100,2)\n",
    " metrics.loc['Test_Accuracy_Optimized' , 'LogisticReg'] = round(accuracy_score(y_pred_lr,y_test)*100,2)"
   ]
  },
  {
   "cell_type": "code",
   "execution_count": 45,
   "metadata": {},
   "outputs": [
    {
     "data": {
      "text/html": [
       "<div>\n",
       "<style scoped>\n",
       "    .dataframe tbody tr th:only-of-type {\n",
       "        vertical-align: middle;\n",
       "    }\n",
       "\n",
       "    .dataframe tbody tr th {\n",
       "        vertical-align: top;\n",
       "    }\n",
       "\n",
       "    .dataframe thead th {\n",
       "        text-align: right;\n",
       "    }\n",
       "</style>\n",
       "<table border=\"1\" class=\"dataframe\">\n",
       "  <thead>\n",
       "    <tr style=\"text-align: right;\">\n",
       "      <th></th>\n",
       "      <th>LogisticReg</th>\n",
       "      <th>SVClassifier</th>\n",
       "      <th>KNeighbors</th>\n",
       "      <th>DecisionTree</th>\n",
       "      <th>RandomForest</th>\n",
       "    </tr>\n",
       "  </thead>\n",
       "  <tbody>\n",
       "    <tr>\n",
       "      <th>Train_Accuracy</th>\n",
       "      <td>61.9</td>\n",
       "      <td>67.88</td>\n",
       "      <td>69.93</td>\n",
       "      <td>100</td>\n",
       "      <td>100</td>\n",
       "    </tr>\n",
       "    <tr>\n",
       "      <th>Test_Accuracy</th>\n",
       "      <td>57.2</td>\n",
       "      <td>60.61</td>\n",
       "      <td>56.25</td>\n",
       "      <td>57.77</td>\n",
       "      <td>69.13</td>\n",
       "    </tr>\n",
       "    <tr>\n",
       "      <th>Train_Accuracy_CV</th>\n",
       "      <td>60.79</td>\n",
       "      <td>62.09</td>\n",
       "      <td>56.21</td>\n",
       "      <td>56.68</td>\n",
       "      <td>67.23</td>\n",
       "    </tr>\n",
       "    <tr>\n",
       "      <th>Test_Accuracy_CV</th>\n",
       "      <td>57.2</td>\n",
       "      <td>60.61</td>\n",
       "      <td>56.25</td>\n",
       "      <td>57.39</td>\n",
       "      <td>66.86</td>\n",
       "    </tr>\n",
       "    <tr>\n",
       "      <th>Train_Accuracy_Optimized</th>\n",
       "      <td>62</td>\n",
       "      <td>NaN</td>\n",
       "      <td>NaN</td>\n",
       "      <td>NaN</td>\n",
       "      <td>NaN</td>\n",
       "    </tr>\n",
       "    <tr>\n",
       "      <th>Test_Accuracy_Optimized</th>\n",
       "      <td>57.01</td>\n",
       "      <td>NaN</td>\n",
       "      <td>NaN</td>\n",
       "      <td>NaN</td>\n",
       "      <td>NaN</td>\n",
       "    </tr>\n",
       "  </tbody>\n",
       "</table>\n",
       "</div>"
      ],
      "text/plain": [
       "                         LogisticReg SVClassifier KNeighbors DecisionTree  \\\n",
       "Train_Accuracy                  61.9        67.88      69.93          100   \n",
       "Test_Accuracy                   57.2        60.61      56.25        57.77   \n",
       "Train_Accuracy_CV              60.79        62.09      56.21        56.68   \n",
       "Test_Accuracy_CV                57.2        60.61      56.25        57.39   \n",
       "Train_Accuracy_Optimized          62          NaN        NaN          NaN   \n",
       "Test_Accuracy_Optimized        57.01          NaN        NaN          NaN   \n",
       "\n",
       "                         RandomForest  \n",
       "Train_Accuracy                    100  \n",
       "Test_Accuracy                   69.13  \n",
       "Train_Accuracy_CV               67.23  \n",
       "Test_Accuracy_CV                66.86  \n",
       "Train_Accuracy_Optimized          NaN  \n",
       "Test_Accuracy_Optimized           NaN  "
      ]
     },
     "execution_count": 45,
     "metadata": {},
     "output_type": "execute_result"
    }
   ],
   "source": [
    "metrics"
   ]
  },
  {
   "cell_type": "code",
   "execution_count": 47,
   "metadata": {},
   "outputs": [
    {
     "data": {
      "text/plain": [
       "{'C': 1, 'gamma': 0.1, 'kernel': 'rbf', 'random_state': 42}"
      ]
     },
     "execution_count": 47,
     "metadata": {},
     "output_type": "execute_result"
    }
   ],
   "source": [
    "#SVC:\n",
    "param_grid = {'C': [1,10], \n",
    "              'gamma': [1,0.1],\n",
    "              'kernel': ['linear','rbf'],\n",
    "              'random_state' : [42],\n",
    "             } \n",
    "\n",
    "\n",
    "\n",
    "#               'kernel': ['linear','poly', 'rbf', 'sigmoid'],\n",
    "\n",
    "svc_model = GridSearchCV(SVC(), param_grid, cv =3, scoring='accuracy')\n",
    "svc_model.fit(X_train,y_train)\n",
    "svc_model.best_params_"
   ]
  },
  {
   "cell_type": "code",
   "execution_count": 48,
   "metadata": {},
   "outputs": [],
   "source": [
    "#best_params_\n",
    "#{'C': 1, 'gamma': 0.1, 'kernel': 'rbf', 'random_state': 42}"
   ]
  },
  {
   "cell_type": "code",
   "execution_count": 49,
   "metadata": {},
   "outputs": [
    {
     "data": {
      "text/plain": [
       "0.615530303030303"
      ]
     },
     "execution_count": 49,
     "metadata": {},
     "output_type": "execute_result"
    }
   ],
   "source": [
    "svc_model = SVC(C= 1, gamma= 0.1, kernel= 'rbf', random_state= 42)\n",
    "svc_model.fit(X_train,y_train)\n",
    "y_pred_svc = svc_model.predict(X_test)\n",
    "accuracy_score(y_pred_svc, y_test)"
   ]
  },
  {
   "cell_type": "code",
   "execution_count": 50,
   "metadata": {},
   "outputs": [],
   "source": [
    " metrics.loc['Train_Accuracy_Optimized', 'SVClassifier'] = round(svc_model.score(X_train,  y_train)*100,2)\n",
    " metrics.loc['Test_Accuracy_Optimized' , 'SVClassifier'] = round(accuracy_score(y_pred_svc, y_test)*100,2)"
   ]
  },
  {
   "cell_type": "code",
   "execution_count": 51,
   "metadata": {},
   "outputs": [
    {
     "data": {
      "text/html": [
       "<div>\n",
       "<style scoped>\n",
       "    .dataframe tbody tr th:only-of-type {\n",
       "        vertical-align: middle;\n",
       "    }\n",
       "\n",
       "    .dataframe tbody tr th {\n",
       "        vertical-align: top;\n",
       "    }\n",
       "\n",
       "    .dataframe thead th {\n",
       "        text-align: right;\n",
       "    }\n",
       "</style>\n",
       "<table border=\"1\" class=\"dataframe\">\n",
       "  <thead>\n",
       "    <tr style=\"text-align: right;\">\n",
       "      <th></th>\n",
       "      <th>LogisticReg</th>\n",
       "      <th>SVClassifier</th>\n",
       "      <th>KNeighbors</th>\n",
       "      <th>DecisionTree</th>\n",
       "      <th>RandomForest</th>\n",
       "    </tr>\n",
       "  </thead>\n",
       "  <tbody>\n",
       "    <tr>\n",
       "      <th>Train_Accuracy</th>\n",
       "      <td>61.9</td>\n",
       "      <td>67.88</td>\n",
       "      <td>69.93</td>\n",
       "      <td>100</td>\n",
       "      <td>100</td>\n",
       "    </tr>\n",
       "    <tr>\n",
       "      <th>Test_Accuracy</th>\n",
       "      <td>57.2</td>\n",
       "      <td>60.61</td>\n",
       "      <td>56.25</td>\n",
       "      <td>57.77</td>\n",
       "      <td>69.13</td>\n",
       "    </tr>\n",
       "    <tr>\n",
       "      <th>Train_Accuracy_CV</th>\n",
       "      <td>60.79</td>\n",
       "      <td>62.09</td>\n",
       "      <td>56.21</td>\n",
       "      <td>56.68</td>\n",
       "      <td>67.23</td>\n",
       "    </tr>\n",
       "    <tr>\n",
       "      <th>Test_Accuracy_CV</th>\n",
       "      <td>57.2</td>\n",
       "      <td>60.61</td>\n",
       "      <td>56.25</td>\n",
       "      <td>57.39</td>\n",
       "      <td>66.86</td>\n",
       "    </tr>\n",
       "    <tr>\n",
       "      <th>Train_Accuracy_Optimized</th>\n",
       "      <td>62</td>\n",
       "      <td>68.07</td>\n",
       "      <td>NaN</td>\n",
       "      <td>NaN</td>\n",
       "      <td>NaN</td>\n",
       "    </tr>\n",
       "    <tr>\n",
       "      <th>Test_Accuracy_Optimized</th>\n",
       "      <td>57.01</td>\n",
       "      <td>61.55</td>\n",
       "      <td>NaN</td>\n",
       "      <td>NaN</td>\n",
       "      <td>NaN</td>\n",
       "    </tr>\n",
       "  </tbody>\n",
       "</table>\n",
       "</div>"
      ],
      "text/plain": [
       "                         LogisticReg SVClassifier KNeighbors DecisionTree  \\\n",
       "Train_Accuracy                  61.9        67.88      69.93          100   \n",
       "Test_Accuracy                   57.2        60.61      56.25        57.77   \n",
       "Train_Accuracy_CV              60.79        62.09      56.21        56.68   \n",
       "Test_Accuracy_CV                57.2        60.61      56.25        57.39   \n",
       "Train_Accuracy_Optimized          62        68.07        NaN          NaN   \n",
       "Test_Accuracy_Optimized        57.01        61.55        NaN          NaN   \n",
       "\n",
       "                         RandomForest  \n",
       "Train_Accuracy                    100  \n",
       "Test_Accuracy                   69.13  \n",
       "Train_Accuracy_CV               67.23  \n",
       "Test_Accuracy_CV                66.86  \n",
       "Train_Accuracy_Optimized          NaN  \n",
       "Test_Accuracy_Optimized           NaN  "
      ]
     },
     "execution_count": 51,
     "metadata": {},
     "output_type": "execute_result"
    }
   ],
   "source": [
    "metrics"
   ]
  },
  {
   "cell_type": "code",
   "execution_count": 52,
   "metadata": {},
   "outputs": [
    {
     "data": {
      "text/plain": [
       "{'algorithm': 'auto',\n",
       " 'leaf_size': 10,\n",
       " 'metric': 'minkowski',\n",
       " 'n_jobs': -1,\n",
       " 'n_neighbors': 22}"
      ]
     },
     "execution_count": 52,
     "metadata": {},
     "output_type": "execute_result"
    }
   ],
   "source": [
    "# KNeighbor\n",
    "\n",
    "param_grid = {'n_neighbors': np.arange(2,25,1),\n",
    "              'algorithm': ['auto', 'ball_tree', 'kd_tree', 'brute'],\n",
    "              'leaf_size': [10,20,30],\n",
    "              'metric': ['minkowski'],\n",
    "              'n_jobs' : [-1]\n",
    "                }\n",
    "\n",
    "\n",
    "kn_model = GridSearchCV(KNeighborsClassifier(), param_grid, cv =3, scoring='accuracy')\n",
    "kn_model.fit(X_train,y_train)\n",
    "kn_model.best_params_\n"
   ]
  },
  {
   "cell_type": "code",
   "execution_count": 53,
   "metadata": {},
   "outputs": [],
   "source": [
    "# best_params_\n",
    "# n_neighbors= 22, algorithm= 'auto', leaf_size= 10, metric= 'minkowski', n_jobs = -1"
   ]
  },
  {
   "cell_type": "code",
   "execution_count": 54,
   "metadata": {},
   "outputs": [
    {
     "data": {
      "text/plain": [
       "0.5909090909090909"
      ]
     },
     "execution_count": 54,
     "metadata": {},
     "output_type": "execute_result"
    }
   ],
   "source": [
    "kn_model = KNeighborsClassifier(n_neighbors= 22, algorithm= 'auto', leaf_size= 10, metric= 'minkowski', n_jobs = -1)\n",
    "kn_model.fit(X_train,y_train)\n",
    "y_pred_kn = kn_model.predict(X_test)\n",
    "accuracy_score(y_pred_kn, y_test)"
   ]
  },
  {
   "cell_type": "code",
   "execution_count": 55,
   "metadata": {},
   "outputs": [],
   "source": [
    " metrics.loc['Train_Accuracy_Optimized', 'KNeighbors'] = round(kn_model.score(X_train,  y_train)*100,2)\n",
    " metrics.loc['Test_Accuracy_Optimized' , 'KNeighbors'] = round(accuracy_score(y_pred_kn, y_test)*100,2)"
   ]
  },
  {
   "cell_type": "code",
   "execution_count": 56,
   "metadata": {},
   "outputs": [
    {
     "data": {
      "text/html": [
       "<div>\n",
       "<style scoped>\n",
       "    .dataframe tbody tr th:only-of-type {\n",
       "        vertical-align: middle;\n",
       "    }\n",
       "\n",
       "    .dataframe tbody tr th {\n",
       "        vertical-align: top;\n",
       "    }\n",
       "\n",
       "    .dataframe thead th {\n",
       "        text-align: right;\n",
       "    }\n",
       "</style>\n",
       "<table border=\"1\" class=\"dataframe\">\n",
       "  <thead>\n",
       "    <tr style=\"text-align: right;\">\n",
       "      <th></th>\n",
       "      <th>LogisticReg</th>\n",
       "      <th>SVClassifier</th>\n",
       "      <th>KNeighbors</th>\n",
       "      <th>DecisionTree</th>\n",
       "      <th>RandomForest</th>\n",
       "    </tr>\n",
       "  </thead>\n",
       "  <tbody>\n",
       "    <tr>\n",
       "      <th>Train_Accuracy</th>\n",
       "      <td>61.9</td>\n",
       "      <td>67.88</td>\n",
       "      <td>69.93</td>\n",
       "      <td>100</td>\n",
       "      <td>100</td>\n",
       "    </tr>\n",
       "    <tr>\n",
       "      <th>Test_Accuracy</th>\n",
       "      <td>57.2</td>\n",
       "      <td>60.61</td>\n",
       "      <td>56.25</td>\n",
       "      <td>57.77</td>\n",
       "      <td>69.13</td>\n",
       "    </tr>\n",
       "    <tr>\n",
       "      <th>Train_Accuracy_CV</th>\n",
       "      <td>60.79</td>\n",
       "      <td>62.09</td>\n",
       "      <td>56.21</td>\n",
       "      <td>56.68</td>\n",
       "      <td>67.23</td>\n",
       "    </tr>\n",
       "    <tr>\n",
       "      <th>Test_Accuracy_CV</th>\n",
       "      <td>57.2</td>\n",
       "      <td>60.61</td>\n",
       "      <td>56.25</td>\n",
       "      <td>57.39</td>\n",
       "      <td>66.86</td>\n",
       "    </tr>\n",
       "    <tr>\n",
       "      <th>Train_Accuracy_Optimized</th>\n",
       "      <td>62</td>\n",
       "      <td>68.07</td>\n",
       "      <td>61.06</td>\n",
       "      <td>NaN</td>\n",
       "      <td>NaN</td>\n",
       "    </tr>\n",
       "    <tr>\n",
       "      <th>Test_Accuracy_Optimized</th>\n",
       "      <td>57.01</td>\n",
       "      <td>61.55</td>\n",
       "      <td>59.09</td>\n",
       "      <td>NaN</td>\n",
       "      <td>NaN</td>\n",
       "    </tr>\n",
       "  </tbody>\n",
       "</table>\n",
       "</div>"
      ],
      "text/plain": [
       "                         LogisticReg SVClassifier KNeighbors DecisionTree  \\\n",
       "Train_Accuracy                  61.9        67.88      69.93          100   \n",
       "Test_Accuracy                   57.2        60.61      56.25        57.77   \n",
       "Train_Accuracy_CV              60.79        62.09      56.21        56.68   \n",
       "Test_Accuracy_CV                57.2        60.61      56.25        57.39   \n",
       "Train_Accuracy_Optimized          62        68.07      61.06          NaN   \n",
       "Test_Accuracy_Optimized        57.01        61.55      59.09          NaN   \n",
       "\n",
       "                         RandomForest  \n",
       "Train_Accuracy                    100  \n",
       "Test_Accuracy                   69.13  \n",
       "Train_Accuracy_CV               67.23  \n",
       "Test_Accuracy_CV                66.86  \n",
       "Train_Accuracy_Optimized          NaN  \n",
       "Test_Accuracy_Optimized           NaN  "
      ]
     },
     "execution_count": 56,
     "metadata": {},
     "output_type": "execute_result"
    }
   ],
   "source": [
    "metrics"
   ]
  },
  {
   "cell_type": "code",
   "execution_count": 133,
   "metadata": {},
   "outputs": [
    {
     "data": {
      "text/plain": [
       "{'criterion': 'gini',\n",
       " 'max_depth': 10,\n",
       " 'max_features': 'auto',\n",
       " 'min_samples_leaf': 5,\n",
       " 'random_state': 42,\n",
       " 'splitter': 'best'}"
      ]
     },
     "execution_count": 133,
     "metadata": {},
     "output_type": "execute_result"
    }
   ],
   "source": [
    "# Decision Tree\n",
    "\n",
    "param_grid = {'criterion' : ['gini', 'entropy', 'log_loss'],\n",
    "              'splitter': ['best', 'random'],\n",
    "              'max_depth' : [2,4,6,8,10],\n",
    "              'min_samples_leaf': np.arange(1,10,1),\n",
    "              'max_features' : ['auto', 'sqrt'],\n",
    "              'random_state' : [42]\n",
    "             } \n",
    "\n",
    "\n",
    "dt_model = GridSearchCV(DecisionTreeClassifier(), param_grid, cv =5, scoring='accuracy')\n",
    "dt_model.fit(X_train,y_train)\n",
    "dt_model.best_params_"
   ]
  },
  {
   "cell_type": "code",
   "execution_count": 57,
   "metadata": {},
   "outputs": [
    {
     "data": {
      "text/plain": [
       "\"\\n{'criterion': 'gini',\\n 'max_depth': 10,\\n 'max_features': 'auto',\\n 'min_samples_leaf': 5,\\n 'random_state': 42,\\n 'splitter': 'best'}\\n \\n\""
      ]
     },
     "execution_count": 57,
     "metadata": {},
     "output_type": "execute_result"
    }
   ],
   "source": [
    "# best_params_\n",
    "'''\n",
    "{'criterion': 'gini',\n",
    " 'max_depth': 10,\n",
    " 'max_features': 'auto',\n",
    " 'min_samples_leaf': 5,\n",
    " 'random_state': 42,\n",
    " 'splitter': 'best'}\n",
    " \n",
    "'''"
   ]
  },
  {
   "cell_type": "code",
   "execution_count": 58,
   "metadata": {},
   "outputs": [
    {
     "data": {
      "text/plain": [
       "0.5303030303030303"
      ]
     },
     "execution_count": 58,
     "metadata": {},
     "output_type": "execute_result"
    }
   ],
   "source": [
    "dt_model = DecisionTreeClassifier(criterion= 'gini', max_depth= 10, max_features= 'auto', min_samples_leaf= 5, splitter = 'best', random_state=42)\n",
    "dt_model.fit(X_train,y_train)\n",
    "y_pred_dt = dt_model.predict(X_test)\n",
    "accuracy_score(y_pred_dt, y_test)"
   ]
  },
  {
   "cell_type": "code",
   "execution_count": 59,
   "metadata": {},
   "outputs": [],
   "source": [
    " metrics.loc['Train_Accuracy_Optimized', 'DecisionTree'] = round(dt_model.score(X_train,  y_train)*100,2)\n",
    " metrics.loc['Test_Accuracy_Optimized' , 'DecisionTree'] = round(accuracy_score(y_pred_dt, y_test)*100,2)"
   ]
  },
  {
   "cell_type": "code",
   "execution_count": 60,
   "metadata": {},
   "outputs": [
    {
     "data": {
      "text/html": [
       "<div>\n",
       "<style scoped>\n",
       "    .dataframe tbody tr th:only-of-type {\n",
       "        vertical-align: middle;\n",
       "    }\n",
       "\n",
       "    .dataframe tbody tr th {\n",
       "        vertical-align: top;\n",
       "    }\n",
       "\n",
       "    .dataframe thead th {\n",
       "        text-align: right;\n",
       "    }\n",
       "</style>\n",
       "<table border=\"1\" class=\"dataframe\">\n",
       "  <thead>\n",
       "    <tr style=\"text-align: right;\">\n",
       "      <th></th>\n",
       "      <th>LogisticReg</th>\n",
       "      <th>SVClassifier</th>\n",
       "      <th>KNeighbors</th>\n",
       "      <th>DecisionTree</th>\n",
       "      <th>RandomForest</th>\n",
       "    </tr>\n",
       "  </thead>\n",
       "  <tbody>\n",
       "    <tr>\n",
       "      <th>Train_Accuracy</th>\n",
       "      <td>61.9</td>\n",
       "      <td>67.88</td>\n",
       "      <td>69.93</td>\n",
       "      <td>100</td>\n",
       "      <td>100</td>\n",
       "    </tr>\n",
       "    <tr>\n",
       "      <th>Test_Accuracy</th>\n",
       "      <td>57.2</td>\n",
       "      <td>60.61</td>\n",
       "      <td>56.25</td>\n",
       "      <td>57.77</td>\n",
       "      <td>69.13</td>\n",
       "    </tr>\n",
       "    <tr>\n",
       "      <th>Train_Accuracy_CV</th>\n",
       "      <td>60.79</td>\n",
       "      <td>62.09</td>\n",
       "      <td>56.21</td>\n",
       "      <td>56.68</td>\n",
       "      <td>67.23</td>\n",
       "    </tr>\n",
       "    <tr>\n",
       "      <th>Test_Accuracy_CV</th>\n",
       "      <td>57.2</td>\n",
       "      <td>60.61</td>\n",
       "      <td>56.25</td>\n",
       "      <td>57.39</td>\n",
       "      <td>66.86</td>\n",
       "    </tr>\n",
       "    <tr>\n",
       "      <th>Train_Accuracy_Optimized</th>\n",
       "      <td>62</td>\n",
       "      <td>68.07</td>\n",
       "      <td>61.06</td>\n",
       "      <td>75.54</td>\n",
       "      <td>NaN</td>\n",
       "    </tr>\n",
       "    <tr>\n",
       "      <th>Test_Accuracy_Optimized</th>\n",
       "      <td>57.01</td>\n",
       "      <td>61.55</td>\n",
       "      <td>59.09</td>\n",
       "      <td>53.03</td>\n",
       "      <td>NaN</td>\n",
       "    </tr>\n",
       "  </tbody>\n",
       "</table>\n",
       "</div>"
      ],
      "text/plain": [
       "                         LogisticReg SVClassifier KNeighbors DecisionTree  \\\n",
       "Train_Accuracy                  61.9        67.88      69.93          100   \n",
       "Test_Accuracy                   57.2        60.61      56.25        57.77   \n",
       "Train_Accuracy_CV              60.79        62.09      56.21        56.68   \n",
       "Test_Accuracy_CV                57.2        60.61      56.25        57.39   \n",
       "Train_Accuracy_Optimized          62        68.07      61.06        75.54   \n",
       "Test_Accuracy_Optimized        57.01        61.55      59.09        53.03   \n",
       "\n",
       "                         RandomForest  \n",
       "Train_Accuracy                    100  \n",
       "Test_Accuracy                   69.13  \n",
       "Train_Accuracy_CV               67.23  \n",
       "Test_Accuracy_CV                66.86  \n",
       "Train_Accuracy_Optimized          NaN  \n",
       "Test_Accuracy_Optimized           NaN  "
      ]
     },
     "execution_count": 60,
     "metadata": {},
     "output_type": "execute_result"
    }
   ],
   "source": [
    " metrics"
   ]
  },
  {
   "cell_type": "code",
   "execution_count": 160,
   "metadata": {},
   "outputs": [
    {
     "data": {
      "text/plain": [
       "{'criterion': 'gini',\n",
       " 'max_depth': 5,\n",
       " 'max_features': 5,\n",
       " 'max_leaf_nodes': 10,\n",
       " 'n_estimators': 100,\n",
       " 'n_jobs': -1}"
      ]
     },
     "execution_count": 160,
     "metadata": {},
     "output_type": "execute_result"
    }
   ],
   "source": [
    "# Random Forest\n",
    "\n",
    "param_grid = {'criterion' : ['gini', 'entropy'],\n",
    "        'n_estimators' : [10,100],\n",
    "        'max_depth' : [5,6,7,8,9,10],\n",
    "        'max_features':  [5,6,7,8,9,10],\n",
    "        'max_leaf_nodes': [5,6,7,8,9,10],\n",
    "        'n_jobs': [-1]\n",
    "        }\n",
    "\n",
    "rf_model = GridSearchCV(RandomForestClassifier(), param_grid, scoring='accuracy')\n",
    "rf_model.fit(X_train,y_train)\n",
    "rf_model.best_params_\n",
    "\n",
    "      "
   ]
  },
  {
   "cell_type": "code",
   "execution_count": 162,
   "metadata": {},
   "outputs": [
    {
     "data": {
      "text/plain": [
       "{'criterion': 'gini',\n",
       " 'max_depth': 5,\n",
       " 'max_features': 5,\n",
       " 'max_leaf_nodes': 10,\n",
       " 'n_estimators': 100,\n",
       " 'n_jobs': -1}"
      ]
     },
     "execution_count": 162,
     "metadata": {},
     "output_type": "execute_result"
    }
   ],
   "source": [
    "rf_model.best_params_"
   ]
  },
  {
   "cell_type": "code",
   "execution_count": 62,
   "metadata": {},
   "outputs": [
    {
     "data": {
      "text/plain": [
       "\"\\n{'criterion': 'gini',\\n 'max_depth': 5,\\n 'max_features': 5,\\n 'max_leaf_nodes': 10,\\n 'n_estimators': 100,\\n 'n_jobs': -1}\\n\\n\""
      ]
     },
     "execution_count": 62,
     "metadata": {},
     "output_type": "execute_result"
    }
   ],
   "source": [
    "# best_params_\n",
    "'''\n",
    "{'criterion': 'gini',\n",
    " 'max_depth': 5,\n",
    " 'max_features': 5,\n",
    " 'max_leaf_nodes': 10,\n",
    " 'n_estimators': 100,\n",
    " 'n_jobs': -1}\n",
    "\n",
    "'''"
   ]
  },
  {
   "cell_type": "code",
   "execution_count": 63,
   "metadata": {},
   "outputs": [
    {
     "data": {
      "text/plain": [
       "0.5700757575757576"
      ]
     },
     "execution_count": 63,
     "metadata": {},
     "output_type": "execute_result"
    }
   ],
   "source": [
    "rf_model = RandomForestClassifier(criterion= 'gini', n_estimators= 100, max_depth= 5, max_features= 5, max_leaf_nodes= 10)\n",
    "rf_model.fit(X_train,y_train)\n",
    "y_pred_rf = rf_model.predict(X_test)\n",
    "accuracy_score(y_pred_rf, y_test)"
   ]
  },
  {
   "cell_type": "code",
   "execution_count": 64,
   "metadata": {},
   "outputs": [],
   "source": [
    " metrics.loc['Train_Accuracy_Optimized', 'RandomForest'] = round(rf_model.score(X_train,  y_train)*100,2)\n",
    " metrics.loc['Test_Accuracy_Optimized' , 'RandomForest'] = round(accuracy_score(y_pred_rf, y_test)*100,2)"
   ]
  },
  {
   "cell_type": "code",
   "execution_count": 65,
   "metadata": {},
   "outputs": [
    {
     "data": {
      "text/html": [
       "<div>\n",
       "<style scoped>\n",
       "    .dataframe tbody tr th:only-of-type {\n",
       "        vertical-align: middle;\n",
       "    }\n",
       "\n",
       "    .dataframe tbody tr th {\n",
       "        vertical-align: top;\n",
       "    }\n",
       "\n",
       "    .dataframe thead th {\n",
       "        text-align: right;\n",
       "    }\n",
       "</style>\n",
       "<table border=\"1\" class=\"dataframe\">\n",
       "  <thead>\n",
       "    <tr style=\"text-align: right;\">\n",
       "      <th></th>\n",
       "      <th>LogisticReg</th>\n",
       "      <th>SVClassifier</th>\n",
       "      <th>KNeighbors</th>\n",
       "      <th>DecisionTree</th>\n",
       "      <th>RandomForest</th>\n",
       "    </tr>\n",
       "  </thead>\n",
       "  <tbody>\n",
       "    <tr>\n",
       "      <th>Train_Accuracy</th>\n",
       "      <td>61.9</td>\n",
       "      <td>67.88</td>\n",
       "      <td>69.93</td>\n",
       "      <td>100</td>\n",
       "      <td>100</td>\n",
       "    </tr>\n",
       "    <tr>\n",
       "      <th>Test_Accuracy</th>\n",
       "      <td>57.2</td>\n",
       "      <td>60.61</td>\n",
       "      <td>56.25</td>\n",
       "      <td>57.77</td>\n",
       "      <td>69.13</td>\n",
       "    </tr>\n",
       "    <tr>\n",
       "      <th>Train_Accuracy_CV</th>\n",
       "      <td>60.79</td>\n",
       "      <td>62.09</td>\n",
       "      <td>56.21</td>\n",
       "      <td>56.68</td>\n",
       "      <td>67.23</td>\n",
       "    </tr>\n",
       "    <tr>\n",
       "      <th>Test_Accuracy_CV</th>\n",
       "      <td>57.2</td>\n",
       "      <td>60.61</td>\n",
       "      <td>56.25</td>\n",
       "      <td>57.39</td>\n",
       "      <td>66.86</td>\n",
       "    </tr>\n",
       "    <tr>\n",
       "      <th>Train_Accuracy_Optimized</th>\n",
       "      <td>62</td>\n",
       "      <td>68.07</td>\n",
       "      <td>61.06</td>\n",
       "      <td>75.54</td>\n",
       "      <td>64.15</td>\n",
       "    </tr>\n",
       "    <tr>\n",
       "      <th>Test_Accuracy_Optimized</th>\n",
       "      <td>57.01</td>\n",
       "      <td>61.55</td>\n",
       "      <td>59.09</td>\n",
       "      <td>53.03</td>\n",
       "      <td>57.01</td>\n",
       "    </tr>\n",
       "  </tbody>\n",
       "</table>\n",
       "</div>"
      ],
      "text/plain": [
       "                         LogisticReg SVClassifier KNeighbors DecisionTree  \\\n",
       "Train_Accuracy                  61.9        67.88      69.93          100   \n",
       "Test_Accuracy                   57.2        60.61      56.25        57.77   \n",
       "Train_Accuracy_CV              60.79        62.09      56.21        56.68   \n",
       "Test_Accuracy_CV                57.2        60.61      56.25        57.39   \n",
       "Train_Accuracy_Optimized          62        68.07      61.06        75.54   \n",
       "Test_Accuracy_Optimized        57.01        61.55      59.09        53.03   \n",
       "\n",
       "                         RandomForest  \n",
       "Train_Accuracy                    100  \n",
       "Test_Accuracy                   69.13  \n",
       "Train_Accuracy_CV               67.23  \n",
       "Test_Accuracy_CV                66.86  \n",
       "Train_Accuracy_Optimized        64.15  \n",
       "Test_Accuracy_Optimized         57.01  "
      ]
     },
     "execution_count": 65,
     "metadata": {},
     "output_type": "execute_result"
    }
   ],
   "source": [
    "metrics"
   ]
  },
  {
   "cell_type": "code",
   "execution_count": 66,
   "metadata": {},
   "outputs": [
    {
     "data": {
      "text/html": [
       "<div>\n",
       "<style scoped>\n",
       "    .dataframe tbody tr th:only-of-type {\n",
       "        vertical-align: middle;\n",
       "    }\n",
       "\n",
       "    .dataframe tbody tr th {\n",
       "        vertical-align: top;\n",
       "    }\n",
       "\n",
       "    .dataframe thead th {\n",
       "        text-align: right;\n",
       "    }\n",
       "</style>\n",
       "<table border=\"1\" class=\"dataframe\">\n",
       "  <thead>\n",
       "    <tr style=\"text-align: right;\">\n",
       "      <th></th>\n",
       "      <th>Train_Accuracy</th>\n",
       "      <th>Test_Accuracy</th>\n",
       "      <th>Train_Accuracy_CV</th>\n",
       "      <th>Test_Accuracy_CV</th>\n",
       "      <th>Train_Accuracy_Optimized</th>\n",
       "      <th>Test_Accuracy_Optimized</th>\n",
       "    </tr>\n",
       "  </thead>\n",
       "  <tbody>\n",
       "    <tr>\n",
       "      <th>LogisticReg</th>\n",
       "      <td>61.9</td>\n",
       "      <td>57.2</td>\n",
       "      <td>60.79</td>\n",
       "      <td>57.2</td>\n",
       "      <td>62</td>\n",
       "      <td>57.01</td>\n",
       "    </tr>\n",
       "    <tr>\n",
       "      <th>SVClassifier</th>\n",
       "      <td>67.88</td>\n",
       "      <td>60.61</td>\n",
       "      <td>62.09</td>\n",
       "      <td>60.61</td>\n",
       "      <td>68.07</td>\n",
       "      <td>61.55</td>\n",
       "    </tr>\n",
       "    <tr>\n",
       "      <th>KNeighbors</th>\n",
       "      <td>69.93</td>\n",
       "      <td>56.25</td>\n",
       "      <td>56.21</td>\n",
       "      <td>56.25</td>\n",
       "      <td>61.06</td>\n",
       "      <td>59.09</td>\n",
       "    </tr>\n",
       "    <tr>\n",
       "      <th>DecisionTree</th>\n",
       "      <td>100</td>\n",
       "      <td>57.77</td>\n",
       "      <td>56.68</td>\n",
       "      <td>57.39</td>\n",
       "      <td>75.54</td>\n",
       "      <td>53.03</td>\n",
       "    </tr>\n",
       "    <tr>\n",
       "      <th>RandomForest</th>\n",
       "      <td>100</td>\n",
       "      <td>69.13</td>\n",
       "      <td>67.23</td>\n",
       "      <td>66.86</td>\n",
       "      <td>64.15</td>\n",
       "      <td>57.01</td>\n",
       "    </tr>\n",
       "  </tbody>\n",
       "</table>\n",
       "</div>"
      ],
      "text/plain": [
       "             Train_Accuracy Test_Accuracy Train_Accuracy_CV Test_Accuracy_CV  \\\n",
       "LogisticReg            61.9          57.2             60.79             57.2   \n",
       "SVClassifier          67.88         60.61             62.09            60.61   \n",
       "KNeighbors            69.93         56.25             56.21            56.25   \n",
       "DecisionTree            100         57.77             56.68            57.39   \n",
       "RandomForest            100         69.13             67.23            66.86   \n",
       "\n",
       "             Train_Accuracy_Optimized Test_Accuracy_Optimized  \n",
       "LogisticReg                        62                   57.01  \n",
       "SVClassifier                    68.07                   61.55  \n",
       "KNeighbors                      61.06                   59.09  \n",
       "DecisionTree                    75.54                   53.03  \n",
       "RandomForest                    64.15                   57.01  "
      ]
     },
     "execution_count": 66,
     "metadata": {},
     "output_type": "execute_result"
    }
   ],
   "source": [
    "metrics.T"
   ]
  },
  {
   "cell_type": "markdown",
   "metadata": {},
   "source": [
    "#### As per the above metrics table:\n",
    "Deision Tree has the maximum training acuracy 75.54% but has low test accuracy as 53.03%, seems to be overfitted.\n",
    "\n",
    "SVC has second highest training acuracy 68.07% with test accuracy as 61.55% (highest in test accuracy) which seems to be stable model for prediction."
   ]
  },
  {
   "cell_type": "code",
   "execution_count": 68,
   "metadata": {},
   "outputs": [],
   "source": [
    "import pickle\n",
    "pickle.dump(scaler, open('Red_Wine_Quality_scaler.pkl','wb'))\n",
    "pickle.dump(model, open('Red_Wine_Quality_SVC.pkl','wb'))"
   ]
  },
  {
   "cell_type": "code",
   "execution_count": null,
   "metadata": {},
   "outputs": [],
   "source": []
  },
  {
   "cell_type": "code",
   "execution_count": null,
   "metadata": {},
   "outputs": [],
   "source": []
  }
 ],
 "metadata": {
  "kernelspec": {
   "display_name": "Python 3.7.3 ('base')",
   "language": "python",
   "name": "python3"
  },
  "language_info": {
   "codemirror_mode": {
    "name": "ipython",
    "version": 3
   },
   "file_extension": ".py",
   "mimetype": "text/x-python",
   "name": "python",
   "nbconvert_exporter": "python",
   "pygments_lexer": "ipython3",
   "version": "3.7.3"
  },
  "vscode": {
   "interpreter": {
    "hash": "df5a47594a4c7fa77718041c239adbe925734d95d528854ea959dd8eef4ca91e"
   }
  }
 },
 "nbformat": 4,
 "nbformat_minor": 5
}
